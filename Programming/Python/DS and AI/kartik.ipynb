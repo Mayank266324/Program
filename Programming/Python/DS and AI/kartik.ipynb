{
 "cells": [
  {
   "cell_type": "code",
   "execution_count": 5,
   "id": "c4bf4eda-f44c-41f4-a6c6-af04739e972a",
   "metadata": {},
   "outputs": [
    {
     "name": "stdout",
     "output_type": "stream",
     "text": [
      "Sum of first 10 natural numbers is:  55\n"
     ]
    }
   ],
   "source": [
    "# sum of first 10 natural numbers\n",
    "sum=0\n",
    "for i in range (1,11):\n",
    "    sum = sum+i\n",
    "print(\"Sum of first 10 natural numbers is: \",sum)"
   ]
  },
  {
   "cell_type": "code",
   "execution_count": 6,
   "id": "d4850886-0965-4857-82c1-d84a6c6041cc",
   "metadata": {},
   "outputs": [
    {
     "name": "stdout",
     "output_type": "stream",
     "text": [
      "5 x  1  =  5\n",
      "5 x  2  =  10\n",
      "5 x  3  =  15\n",
      "5 x  4  =  20\n",
      "5 x  5  =  25\n"
     ]
    }
   ],
   "source": [
    "# Table of 5 upto 5 terms\n",
    "for i in range(1,6):\n",
    "    prod = 5*i\n",
    "    print(\"5 x \",i,\" = \",prod)"
   ]
  },
  {
   "cell_type": "code",
   "execution_count": null,
   "id": "80fcdb05-5e36-4ee8-9dfc-3ca27a158d05",
   "metadata": {},
   "outputs": [],
   "source": []
  }
 ],
 "metadata": {
  "kernelspec": {
   "display_name": "Python 3 (ipykernel)",
   "language": "python",
   "name": "python3"
  },
  "language_info": {
   "codemirror_mode": {
    "name": "ipython",
    "version": 3
   },
   "file_extension": ".py",
   "mimetype": "text/x-python",
   "name": "python",
   "nbconvert_exporter": "python",
   "pygments_lexer": "ipython3",
   "version": "3.12.6"
  }
 },
 "nbformat": 4,
 "nbformat_minor": 5
}
