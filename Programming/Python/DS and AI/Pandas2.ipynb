{
 "cells": [
  {
   "cell_type": "code",
   "execution_count": 11,
   "id": "30f91afe-5c99-4d24-9f1a-1b1b29ae38ca",
   "metadata": {},
   "outputs": [],
   "source": [
    "import pandas as pd\n",
    "import numpy as np"
   ]
  },
  {
   "cell_type": "code",
   "execution_count": 5,
   "id": "7223ed61-2bed-415d-8f43-8aa429136169",
   "metadata": {},
   "outputs": [
    {
     "name": "stdout",
     "output_type": "stream",
     "text": [
      "0    10\n",
      "1    20\n",
      "2    30\n",
      "3    40\n",
      "dtype: int64\n"
     ]
    }
   ],
   "source": [
    "data=[10,20,30,40]\n",
    "s=pd.Series(data) #it is a heterogenous collection of data\n",
    "print(s)"
   ]
  },
  {
   "cell_type": "code",
   "execution_count": 6,
   "id": "4b21f354-41cb-47a2-aa16-19ac53a70a91",
   "metadata": {},
   "outputs": [
    {
     "name": "stdout",
     "output_type": "stream",
     "text": [
      "a    10\n",
      "b    20\n",
      "c    30\n",
      "d    40\n",
      "dtype: int64\n"
     ]
    }
   ],
   "source": [
    "s=pd.Series([10,20,30,40],index=['a','b','c','d'])\n",
    "print(s)"
   ]
  },
  {
   "cell_type": "code",
   "execution_count": 8,
   "id": "a128d415-e35e-4104-a1da-b0d3fb71a06b",
   "metadata": {},
   "outputs": [
    {
     "name": "stdout",
     "output_type": "stream",
     "text": [
      "a    100\n",
      "b    200\n",
      "c    300\n",
      "dtype: int64\n"
     ]
    }
   ],
   "source": [
    "data={'a':100,'b':200,'c':300}\n",
    "s=pd.Series(data)\n",
    "print(s)"
   ]
  },
  {
   "cell_type": "code",
   "execution_count": 10,
   "id": "50617c43-576a-40cc-85e8-051dbfb64084",
   "metadata": {},
   "outputs": [
    {
     "name": "stdout",
     "output_type": "stream",
     "text": [
      "a    5\n",
      "b    5\n",
      "c    5\n",
      "dtype: int64\n"
     ]
    }
   ],
   "source": [
    "s=pd.Series(5,index=['a','b','c'])\n",
    "print (s)"
   ]
  },
  {
   "cell_type": "code",
   "execution_count": 13,
   "id": "31985963-5c5f-461c-be66-249bae2201f3",
   "metadata": {},
   "outputs": [
    {
     "name": "stdout",
     "output_type": "stream",
     "text": [
      "0    10\n",
      "1    11\n",
      "2    12\n",
      "3    13\n",
      "dtype: int64\n"
     ]
    }
   ],
   "source": [
    "s=pd.Series(np.array([10,11,12,13]))\n",
    "print(s)"
   ]
  },
  {
   "cell_type": "code",
   "execution_count": 23,
   "id": "8ea02a21-5e4e-4983-8ea6-06c783c0c992",
   "metadata": {},
   "outputs": [
    {
     "name": "stdout",
     "output_type": "stream",
     "text": [
      "   Roll_no       Name  Age  Address\n",
      "0        1       Neha   30  Sonipat\n",
      "1        2     Aditya   20   Rohtak\n",
      "2        3   Abhishek   40  Gurgaon\n",
      "3        4    Davisha   10    Delhi\n",
      "4        5  Pratyaksh   70  Sonipat\n",
      "Head = \n",
      "    Roll_no    Name  Age  Address\n",
      "0        1    Neha   30  Sonipat\n",
      "1        2  Aditya   20   Rohtak\n",
      "Tail =\n",
      "    Roll_no       Name  Age  Address\n",
      "3        4    Davisha   10    Delhi\n",
      "4        5  Pratyaksh   70  Sonipat\n",
      "Shape= \n",
      " (5, 4)\n",
      "Columns= \n",
      " Index(['Roll_no', 'Name', 'Age', 'Address'], dtype='object')\n",
      "Size =\n",
      " 20\n",
      "Values =\n",
      " [[1 'Neha' 30 'Sonipat']\n",
      " [2 'Aditya' 20 'Rohtak']\n",
      " [3 'Abhishek' 40 'Gurgaon']\n",
      " [4 'Davisha' 10 'Delhi']\n",
      " [5 'Pratyaksh' 70 'Sonipat']]\n",
      "Index =\n",
      " RangeIndex(start=0, stop=5, step=1)\n",
      "Age =\n",
      " 0    30\n",
      "1    20\n",
      "2    40\n",
      "3    10\n",
      "4    70\n",
      "Name: Age, dtype: int64\n",
      "        Name  Address\n",
      "0       Neha  Sonipat\n",
      "1     Aditya   Rohtak\n",
      "2   Abhishek  Gurgaon\n",
      "3    Davisha    Delhi\n",
      "4  Pratyaksh  Sonipat\n",
      "LOC= \n",
      " Roll_no          1\n",
      "Name          Neha\n",
      "Age             30\n",
      "Address    Sonipat\n",
      "Name: 0, dtype: object\n",
      "LOC= \n",
      "    Roll_no      Name  Age  Address\n",
      "0        1      Neha   30  Sonipat\n",
      "1        2    Aditya   20   Rohtak\n",
      "2        3  Abhishek   40  Gurgaon\n",
      "Ages less than 30 =\n",
      "    Roll_no     Name  Age Address\n",
      "1        2   Aditya   20  Rohtak\n",
      "3        4  Davisha   10   Delhi\n",
      "Sample=\n",
      "    Roll_no       Name  Age  Address\n",
      "4        5  Pratyaksh   70  Sonipat\n",
      "0        1       Neha   30  Sonipat\n",
      "3        4    Davisha   10    Delhi\n"
     ]
    }
   ],
   "source": [
    "st_data=[(1,'Neha',30,'Sonipat'),(2,'Aditya',20,'Rohtak'),(3,'Abhishek',40,'Gurgaon'),(4,'Davisha',10,'Delhi'),(5,'Pratyaksh',70,'Sonipat')]\n",
    "df=pd.DataFrame(st_data,columns=['Roll_no','Name','Age','Address'])\n",
    "print(df)\n",
    "#df1=pd.read_csv('AIML.csv')\n",
    "#df2=pd.read_excel('AIML.xlsx')\n",
    "#df3=pd.read_excel('D:/AIML.xlsx')\n",
    "print(\"Head = \\n\",df.head(2))\n",
    "print(\"Tail =\\n\",df.tail(2))\n",
    "print(\"Shape= \\n\",df.shape)\n",
    "print(\"Columns= \\n\",df.columns)\n",
    "print(\"Size =\\n\",df.size)\n",
    "print(\"Values =\\n\",df.values)\n",
    "print(\"Index =\\n\",df.index)\n",
    "print(\"Age =\\n\",df.Age)\n",
    "print(df[['Name','Address']])\n",
    "print(\"LOC= \\n\",df.loc[0])\n",
    "print(\"LOC= \\n\",df.loc[[0,1,2]])\n",
    "print(\"Ages less than 30 =\\n\",df[df['Age']<30])\n",
    "print(\"Sample=\\n\",df.sample(3))"
   ]
  },
  {
   "cell_type": "code",
   "execution_count": 25,
   "id": "d8c316e7-d33f-45e2-931a-dfd9351ca16e",
   "metadata": {},
   "outputs": [
    {
     "name": "stdout",
     "output_type": "stream",
     "text": [
      "3 columns=\n",
      " Index(['Roll_no', 'Name', 'Age'], dtype='object')\n"
     ]
    }
   ],
   "source": [
    "print(\"3 columns=\\n\",df.columns[0:3])"
   ]
  },
  {
   "cell_type": "code",
   "execution_count": null,
   "id": "cb38404a-02c2-48cd-b8fb-c9c098648451",
   "metadata": {},
   "outputs": [],
   "source": []
  }
 ],
 "metadata": {
  "kernelspec": {
   "display_name": "Python 3 (ipykernel)",
   "language": "python",
   "name": "python3"
  },
  "language_info": {
   "codemirror_mode": {
    "name": "ipython",
    "version": 3
   },
   "file_extension": ".py",
   "mimetype": "text/x-python",
   "name": "python",
   "nbconvert_exporter": "python",
   "pygments_lexer": "ipython3",
   "version": "3.12.6"
  }
 },
 "nbformat": 4,
 "nbformat_minor": 5
}
