{
 "cells": [
  {
   "cell_type": "code",
   "execution_count": 2,
   "id": "5d6d7804-464d-4c3c-8326-7f0b9d25c6b9",
   "metadata": {},
   "outputs": [],
   "source": [
    "import pandas as pd"
   ]
  },
  {
   "cell_type": "code",
   "execution_count": 8,
   "id": "b87c99c5-f0c1-4368-8ccb-d2579568e940",
   "metadata": {},
   "outputs": [
    {
     "name": "stdout",
     "output_type": "stream",
     "text": [
      "0    1\n",
      "dtype: int64\n"
     ]
    }
   ],
   "source": [
    "noob=[1,2,3,4]\n",
    "Professional=pd.Series(noob)\n",
    "print(Professional.head(1))"
   ]
  },
  {
   "cell_type": "code",
   "execution_count": null,
   "id": "05976066-82ad-447a-a73a-c2fb1ce93d3a",
   "metadata": {},
   "outputs": [],
   "source": []
  }
 ],
 "metadata": {
  "kernelspec": {
   "display_name": "Python 3 (ipykernel)",
   "language": "python",
   "name": "python3"
  },
  "language_info": {
   "codemirror_mode": {
    "name": "ipython",
    "version": 3
   },
   "file_extension": ".py",
   "mimetype": "text/x-python",
   "name": "python",
   "nbconvert_exporter": "python",
   "pygments_lexer": "ipython3",
   "version": "3.12.3"
  }
 },
 "nbformat": 4,
 "nbformat_minor": 5
}
