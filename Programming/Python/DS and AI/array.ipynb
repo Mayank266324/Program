{
 "cells": [
  {
   "cell_type": "code",
   "execution_count": 20,
   "id": "6739282e-ce54-4b71-89da-3885978ee606",
   "metadata": {},
   "outputs": [],
   "source": [
    "import numpy as np\n",
    "from numpy import random"
   ]
  },
  {
   "cell_type": "code",
   "execution_count": 15,
   "id": "e6a05315-8be7-4a00-81d4-c4b7676c8583",
   "metadata": {},
   "outputs": [
    {
     "name": "stdout",
     "output_type": "stream",
     "text": [
      "[10 20 30]\n",
      "<class 'numpy.ndarray'>\n",
      "version =  2.0.1\n"
     ]
    }
   ],
   "source": [
    "a=np.array([10,20,30])\n",
    "print(a)\n",
    "print(type(a))\n",
    "print(\"version = \",np.__version__)"
   ]
  },
  {
   "cell_type": "code",
   "execution_count": 11,
   "id": "6f47dfaa-1c9f-4248-8948-99b404ab78c2",
   "metadata": {},
   "outputs": [
    {
     "name": "stdout",
     "output_type": "stream",
     "text": [
      "2\n"
     ]
    }
   ],
   "source": [
    "print(np.array(2))"
   ]
  },
  {
   "cell_type": "code",
   "execution_count": 18,
   "id": "f9762915-ecec-4c2d-95a0-b2dc218e6eb6",
   "metadata": {},
   "outputs": [
    {
     "name": "stdout",
     "output_type": "stream",
     "text": [
      "1D array= \n",
      " [10 20]\n",
      "Type=  <class 'numpy.ndarray'>\n",
      "2D array= \n",
      " [[1.  2.1]\n",
      " [3.  4. ]]\n",
      "Type=  <class 'numpy.ndarray'>\n",
      "3D array= \n",
      " [[1 2 3]\n",
      " [4 5 6]\n",
      " [7 8 9]]\n",
      "Type=  <class 'numpy.ndarray'>\n"
     ]
    }
   ],
   "source": [
    "b=np.array([10,20])\n",
    "c=np.array([[1,2.1],[3,4]])\n",
    "d=np.array([[1,2,3],[4,5,6],[7,8,9]])\n",
    "print(\"1D array= \\n\",b)\n",
    "print(\"Type= \",type(b))\n",
    "print(\"2D array= \\n\",c)\n",
    "print(\"Type= \",type(c))\n",
    "print(\"3D array= \\n\",d)\n",
    "print(\"Type= \",type(d))"
   ]
  },
  {
   "cell_type": "code",
   "execution_count": 36,
   "id": "d87b70d4-9e51-4791-9599-4984306a3949",
   "metadata": {},
   "outputs": [
    {
     "name": "stdout",
     "output_type": "stream",
     "text": [
      "1\n",
      "(3, 3)\n",
      "9\n",
      "int64\n",
      "8\n"
     ]
    }
   ],
   "source": [
    "#attributes\n",
    "#ndim,shape,size,dtype,itemsize\n",
    "#Statistical Function\n",
    "#max,miin,mean,median,sum,var,std\n",
    "print(a.ndim)\n",
    "#shape\n",
    "print(d.shape)\n",
    "#size\n",
    "print(d.size)\n",
    "#dtype\n",
    "print(d.dtype)\n",
    "#itemsize\n",
    "print(d.itemsize)"
   ]
  },
  {
   "cell_type": "code",
   "execution_count": 17,
   "id": "432deb4e-56e3-4eeb-95b4-483f679e0b52",
   "metadata": {},
   "outputs": [
    {
     "name": "stdout",
     "output_type": "stream",
     "text": [
      "[ 2  3 13 25 50]\n",
      "[ 2  3 13 25 50]\n",
      "[0 1 2 3 4]\n"
     ]
    }
   ],
   "source": [
    "#Sorting\n",
    "e=np.array([3,2,50,25,13])\n",
    "e.sort()\n",
    "print(e)\n",
    "f=np.sort(e)\n",
    "print(f)\n",
    "print(np.argsort(e))"
   ]
  },
  {
   "cell_type": "code",
   "execution_count": 37,
   "id": "2627ba70-5fbc-4ee4-b7ff-d578f90ab0b5",
   "metadata": {},
   "outputs": [],
   "source": [
    "#What,Why,application\n",
    "#Advantages over python array\n",
    "#Attributes\n",
    "#Statistical Functions\n",
    "#Slicing\n",
    "#Type\n",
    "#data Types\n",
    "#create array\n",
    "#Sorting"
   ]
  },
  {
   "cell_type": "code",
   "execution_count": 4,
   "id": "229d4d27-f90e-4952-93ec-3a35c99034be",
   "metadata": {},
   "outputs": [
    {
     "ename": "NameError",
     "evalue": "name 'np' is not defined",
     "output_type": "error",
     "traceback": [
      "\u001b[1;31m---------------------------------------------------------------------------\u001b[0m",
      "\u001b[1;31mNameError\u001b[0m                                 Traceback (most recent call last)",
      "Cell \u001b[1;32mIn[4], line 2\u001b[0m\n\u001b[0;32m      1\u001b[0m \u001b[38;5;66;03m#Broadcasting...\u001b[39;00m\n\u001b[1;32m----> 2\u001b[0m g\u001b[38;5;241m=\u001b[39m\u001b[43mnp\u001b[49m\u001b[38;5;241m.\u001b[39mndarray([\u001b[38;5;241m1\u001b[39m,\u001b[38;5;241m2\u001b[39m,\u001b[38;5;241m3\u001b[39m])\n\u001b[0;32m      3\u001b[0m h\u001b[38;5;241m=\u001b[39mnp\u001b[38;5;241m.\u001b[39mndarray([[\u001b[38;5;241m1\u001b[39m],[\u001b[38;5;241m2\u001b[39m],[\u001b[38;5;241m3\u001b[39m]])\n\u001b[0;32m      4\u001b[0m \u001b[38;5;28mprint\u001b[39m(np\u001b[38;5;241m.\u001b[39madd(g,h))\n",
      "\u001b[1;31mNameError\u001b[0m: name 'np' is not defined"
     ]
    }
   ],
   "source": [
    "#Broadcasting...\n",
    "g=np.ndarray([1,2,3])\n",
    "h=np.ndarray([[1],[2],[3]])\n",
    "print(np.add(g,h))"
   ]
  },
  {
   "cell_type": "code",
   "execution_count": 19,
   "id": "1f2b1692-4729-4563-ac3f-06bac79f2c46",
   "metadata": {},
   "outputs": [
    {
     "ename": "ValueError",
     "evalue": "operands could not be broadcast together with shapes (4,) (3,) ",
     "output_type": "error",
     "traceback": [
      "\u001b[1;31m---------------------------------------------------------------------------\u001b[0m",
      "\u001b[1;31mValueError\u001b[0m                                Traceback (most recent call last)",
      "Cell \u001b[1;32mIn[19], line 3\u001b[0m\n\u001b[0;32m      1\u001b[0m i\u001b[38;5;241m=\u001b[39mnp\u001b[38;5;241m.\u001b[39marray([\u001b[38;5;241m1\u001b[39m,\u001b[38;5;241m2\u001b[39m,\u001b[38;5;241m3\u001b[39m,\u001b[38;5;241m4\u001b[39m])\n\u001b[0;32m      2\u001b[0m j\u001b[38;5;241m=\u001b[39mnp\u001b[38;5;241m.\u001b[39marray([\u001b[38;5;241m1\u001b[39m,\u001b[38;5;241m2\u001b[39m,\u001b[38;5;241m3\u001b[39m])\n\u001b[1;32m----> 3\u001b[0m \u001b[38;5;28mprint\u001b[39m(\u001b[43mi\u001b[49m\u001b[38;5;241;43m+\u001b[39;49m\u001b[43mj\u001b[49m)\n",
      "\u001b[1;31mValueError\u001b[0m: operands could not be broadcast together with shapes (4,) (3,) "
     ]
    }
   ],
   "source": [
    "i=np.array([1,2,3,4])\n",
    "j=np.array([1,2,3])\n",
    "print(i+j)"
   ]
  },
  {
   "cell_type": "code",
   "execution_count": 22,
   "id": "797bc5d3-83cc-45bf-b5ff-fd3015f7d7c3",
   "metadata": {},
   "outputs": [
    {
     "ename": "NameError",
     "evalue": "name 'randint' is not defined",
     "output_type": "error",
     "traceback": [
      "\u001b[1;31m---------------------------------------------------------------------------\u001b[0m",
      "\u001b[1;31mNameError\u001b[0m                                 Traceback (most recent call last)",
      "Cell \u001b[1;32mIn[22], line 4\u001b[0m\n\u001b[0;32m      2\u001b[0m random\u001b[38;5;241m.\u001b[39mrand(\u001b[38;5;241m100\u001b[39m)\n\u001b[0;32m      3\u001b[0m random\u001b[38;5;241m.\u001b[39mrandint(\u001b[38;5;241m100\u001b[39m)\n\u001b[1;32m----> 4\u001b[0m \u001b[43mrandint\u001b[49m(\u001b[38;5;241m100\u001b[39m,size(\u001b[38;5;241m5\u001b[39m))\n\u001b[0;32m      5\u001b[0m randint(\u001b[38;5;241m100\u001b[39m,size(\u001b[38;5;241m3\u001b[39m,\u001b[38;5;241m5\u001b[39m))\n\u001b[0;32m      6\u001b[0m rand(\u001b[38;5;241m5\u001b[39m)\n",
      "\u001b[1;31mNameError\u001b[0m: name 'randint' is not defined"
     ]
    }
   ],
   "source": [
    "#Random array generation\n",
    "x=random.rand(100)\n",
    "random.randint(100)\n",
    "randint(100,size(5))\n",
    "randint(100,size(3,5))\n",
    "rand(5)\n",
    "rand(3,5)\n",
    "random.choice([3,5,7,9])\n",
    "random.choice([3,5,7,9],size=(3,5))"
   ]
  },
  {
   "cell_type": "code",
   "execution_count": null,
   "id": "764d3a78-04e1-47bb-94ba-0e51102d6a73",
   "metadata": {},
   "outputs": [],
   "source": [
    "# Ability of numpy to perform arithematic operation between arrays of different shapes is called broadcating.\n",
    "# The shape should be compatible.\n",
    "# Smaller array is broadcast across the larger array so that they have compatible shapes."
   ]
  }
 ],
 "metadata": {
  "kernelspec": {
   "display_name": "Python 3 (ipykernel)",
   "language": "python",
   "name": "python3"
  },
  "language_info": {
   "codemirror_mode": {
    "name": "ipython",
    "version": 3
   },
   "file_extension": ".py",
   "mimetype": "text/x-python",
   "name": "python",
   "nbconvert_exporter": "python",
   "pygments_lexer": "ipython3",
   "version": "3.12.3"
  }
 },
 "nbformat": 4,
 "nbformat_minor": 5
}
