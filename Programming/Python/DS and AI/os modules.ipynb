{
 "cells": [
  {
   "cell_type": "code",
   "execution_count": 2,
   "id": "cc432cf7-1e5b-4bc1-b649-58f213ce1222",
   "metadata": {},
   "outputs": [],
   "source": [
    "import os"
   ]
  },
  {
   "cell_type": "code",
   "execution_count": 3,
   "id": "93cd1033-e2bd-498b-a726-e6c1941d3e37",
   "metadata": {},
   "outputs": [
    {
     "name": "stderr",
     "output_type": "stream",
     "text": [
      "<>:1: SyntaxWarning: invalid escape sequence '\\P'\n",
      "<>:1: SyntaxWarning: invalid escape sequence '\\P'\n",
      "C:\\Users\\Mayank\\AppData\\Local\\Temp\\ipykernel_4636\\606325294.py:1: SyntaxWarning: invalid escape sequence '\\P'\n",
      "  os.mkdir(\"D:\\Programming\\Python\\DS and AI\\OS module\")\n"
     ]
    }
   ],
   "source": [
    "os.mkdir(\"D:\\Programming\\Python\\DS and AI\\OS module\")"
   ]
  },
  {
   "cell_type": "code",
   "execution_count": null,
   "id": "197787b2-a629-47d6-9865-5909877a6fe0",
   "metadata": {},
   "outputs": [],
   "source": []
  }
 ],
 "metadata": {
  "kernelspec": {
   "display_name": "Python 3 (ipykernel)",
   "language": "python",
   "name": "python3"
  },
  "language_info": {
   "codemirror_mode": {
    "name": "ipython",
    "version": 3
   },
   "file_extension": ".py",
   "mimetype": "text/x-python",
   "name": "python",
   "nbconvert_exporter": "python",
   "pygments_lexer": "ipython3",
   "version": "3.12.3"
  }
 },
 "nbformat": 4,
 "nbformat_minor": 5
}
