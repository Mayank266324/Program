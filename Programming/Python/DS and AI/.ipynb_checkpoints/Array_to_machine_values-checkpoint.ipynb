{
 "cells": [
  {
   "cell_type": "code",
   "execution_count": 1,
   "id": "84259d29-8d2b-4b7e-97fb-8a6d4b8f1f66",
   "metadata": {},
   "outputs": [],
   "source": [
    "import struct"
   ]
  },
  {
   "cell_type": "code",
   "execution_count": 4,
   "id": "47721382-971c-4513-add7-ca4d8dec21c0",
   "metadata": {},
   "outputs": [],
   "source": [
    "def array_to_machine_values(arr,format_char):\n",
    "    return struct.pack(f'{len(arr)}{format_char}',*arr)\n",
    "def machine_values_to_array(machine_values,format_char):\n",
    "    num_elements=len(machine_values//struct.calcsize(format_char))\n",
    "    return list(struct.unpack(f'{num_elements}{format_char}',machine_values))\n",
    "    original_array=[1,2,3,4]\n",
    "    format_char='i'\n",
    "    machine_values=array_to_machine_values(original_array,format_char)\n",
    "    print(f\"Machine Values(bytes):{machine_values}\")\n",
    "    restored_array=machine_values_to_array(machine_values,format_char)\n",
    "    print(f\"restored_array:{restored_array}\")"
   ]
  },
  {
   "cell_type": "code",
   "execution_count": null,
   "id": "46ccfa8c-3d6b-444c-b710-2534c522e4f0",
   "metadata": {},
   "outputs": [],
   "source": []
  }
 ],
 "metadata": {
  "kernelspec": {
   "display_name": "Python 3 (ipykernel)",
   "language": "python",
   "name": "python3"
  },
  "language_info": {
   "codemirror_mode": {
    "name": "ipython",
    "version": 3
   },
   "file_extension": ".py",
   "mimetype": "text/x-python",
   "name": "python",
   "nbconvert_exporter": "python",
   "pygments_lexer": "ipython3",
   "version": "3.12.3"
  }
 },
 "nbformat": 4,
 "nbformat_minor": 5
}
