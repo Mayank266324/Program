{
 "cells": [
  {
   "cell_type": "code",
   "execution_count": 1,
   "id": "4e9ad5f0-406d-4171-a319-af6c77384dcd",
   "metadata": {},
   "outputs": [],
   "source": [
    "import numpy as np\n",
    "from numpy import random"
   ]
  },
  {
   "cell_type": "code",
   "execution_count": 5,
   "id": "1a98c631-208f-4563-b781-54ff01c77ab1",
   "metadata": {},
   "outputs": [
    {
     "name": "stdout",
     "output_type": "stream",
     "text": [
      "8 [[3 7 3 2 6]\n",
      " [5 1 5 2 3]\n",
      " [0 6 0 7 0]]\n"
     ]
    }
   ],
   "source": [
    "x=random.randint(100)\n",
    "x=random.rand(100)\n",
    "x=random.randint(100,size=(5))\n",
    "x=random.randint(100,size=(3,5))\n",
    "x=random.rand(5)\n",
    "#x=rand(3,5)\n",
    "x=random.choice([7,8,9,10,11])\n",
    "y=random.choice(x,size=(3,5))\n",
    "print(x,y)"
   ]
  },
  {
   "cell_type": "code",
   "execution_count": 8,
   "id": "2a433746-8beb-4c92-869a-0cfe5de2518b",
   "metadata": {
    "scrolled": true
   },
   "outputs": [
    {
     "name": "stdout",
     "output_type": "stream",
     "text": [
      "add=  [[20 30 40 50]\n",
      " [60 70 80 90]\n",
      " [11 12 13 14]]\n",
      "multiply=  [[100 200 300 400]\n",
      " [500 600 700 800]\n",
      " [ 10  20  30  40]]\n",
      "subtract=  [[ 0 10 20 30]\n",
      " [40 50 60 70]\n",
      " [-9 -8 -7 -6]]\n",
      "Divide=  [[1.  2.  3.  4. ]\n",
      " [5.  6.  7.  8. ]\n",
      " [0.1 0.2 0.3 0.4]]\n",
      "Divmod=  (array([[1, 2, 3, 4],\n",
      "       [5, 6, 7, 8],\n",
      "       [0, 0, 0, 0]]), array([[0, 0, 0, 0],\n",
      "       [0, 0, 0, 0],\n",
      "       [1, 2, 3, 4]]))\n",
      "Mod=  [[0 0 0 0]\n",
      " [0 0 0 0]\n",
      " [1 2 3 4]]\n",
      "Remainder=  [[0 0 0 0]\n",
      " [0 0 0 0]\n",
      " [1 2 3 4]]\n",
      "Power=  [100 100 100 100]\n"
     ]
    }
   ],
   "source": [
    "a1=[[10,20,30,40],[50,60,70,80],[1,2,3,4]]\n",
    "a2=[10,10,10,10]\n",
    "print(\"add= \",np.add(a1,a2))\n",
    "print(\"multiply= \",np.multiply(a1,a2))\n",
    "print(\"subtract= \",np.subtract(a1,a2))\n",
    "print(\"Divide= \",np.divide(a1,a2))\n",
    "print(\"Divmod= \",np.divmod(a1,a2))\n",
    "print(\"Mod= \",np.mod(a1,a2))\n",
    "print(\"Remainder= \",np.remainder(a1,a2))\n",
    "print(\"Power= \",np.power(a2,2))"
   ]
  },
  {
   "cell_type": "code",
   "execution_count": null,
   "id": "a6636f88-c27d-4280-8309-9338387e10d0",
   "metadata": {},
   "outputs": [],
   "source": []
  }
 ],
 "metadata": {
  "kernelspec": {
   "display_name": "Python 3 (ipykernel)",
   "language": "python",
   "name": "python3"
  },
  "language_info": {
   "codemirror_mode": {
    "name": "ipython",
    "version": 3
   },
   "file_extension": ".py",
   "mimetype": "text/x-python",
   "name": "python",
   "nbconvert_exporter": "python",
   "pygments_lexer": "ipython3",
   "version": "3.12.3"
  }
 },
 "nbformat": 4,
 "nbformat_minor": 5
}
