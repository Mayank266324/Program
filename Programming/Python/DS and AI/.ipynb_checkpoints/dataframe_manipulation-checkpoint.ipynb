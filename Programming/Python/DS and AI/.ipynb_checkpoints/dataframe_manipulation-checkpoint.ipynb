{
 "cells": [
  {
   "cell_type": "code",
   "execution_count": 1,
   "id": "0e3b7694-245d-4e62-9f54-3c6a2b5d91d8",
   "metadata": {},
   "outputs": [],
   "source": [
    "import pandas as pd\n",
    "import numpy as np"
   ]
  },
  {
   "cell_type": "code",
   "execution_count": 3,
   "id": "04860226-c2a0-4318-9f78-ed8eef61a704",
   "metadata": {},
   "outputs": [
    {
     "name": "stdout",
     "output_type": "stream",
     "text": [
      "0    10\n",
      "1    20\n",
      "2    30\n",
      "3    40\n",
      "dtype: int64\n"
     ]
    }
   ],
   "source": [
    "data=[10,20,30,40]\n",
    "s=pd.Series(data) #it is a heterogenous collection of data\n",
    "print(s)"
   ]
  },
  {
   "cell_type": "code",
   "execution_count": 4,
   "id": "a9a76d19-a836-4b00-a263-d67fa1a04de5",
   "metadata": {},
   "outputs": [
    {
     "name": "stdout",
     "output_type": "stream",
     "text": [
      "a    100\n",
      "b    200\n",
      "c    300\n",
      "dtype: int64\n"
     ]
    }
   ],
   "source": [
    "data={'a':100,'b':200,'c':300}\n",
    "s=pd.Series(data)\n",
    "print(s)"
   ]
  },
  {
   "cell_type": "code",
   "execution_count": 6,
   "id": "30207337-3bd5-41fe-9429-9141be821661",
   "metadata": {},
   "outputs": [
    {
     "name": "stdout",
     "output_type": "stream",
     "text": [
      "0    10\n",
      "1    21\n",
      "2    32\n",
      "3    43\n",
      "dtype: int64\n"
     ]
    }
   ],
   "source": [
    "s=pd.Series(np.array([10,21,32,43]))\n",
    "print(s)"
   ]
  },
  {
   "cell_type": "code",
   "execution_count": 7,
   "id": "2e7b2e35-a4d2-4c8e-9e7b-8d4cb38fbfba",
   "metadata": {},
   "outputs": [],
   "source": [
    "import csv"
   ]
  },
  {
   "cell_type": "code",
   "execution_count": 8,
   "id": "47adb243-118f-4056-9397-16deb97b1173",
   "metadata": {},
   "outputs": [
    {
     "name": "stdout",
     "output_type": "stream",
     "text": [
      "data updated\n"
     ]
    }
   ],
   "source": [
    "data=[['S_No.','Name','Age','Address'],[1,'Neha',30,'Sonipat'],[2,'Aditya',20,'Rohtak'],[3,'Abhishek',40,'Gurgaon'],[4,'Davisha',10,'Delhi'],[5,'Pratyaksh',70,'Sonipat']]\n",
    "with open('data.csv',mode='w',newline='') as file:\n",
    "    writer=csv.writer(file)\n",
    "    writer.writerows(data)\n",
    "print(\"data updated\")"
   ]
  },
  {
   "cell_type": "code",
   "execution_count": 9,
   "id": "205ee3f9-4273-4e3f-bc1f-ffe341ab68db",
   "metadata": {},
   "outputs": [
    {
     "name": "stdout",
     "output_type": "stream",
     "text": [
      "   Roll_no       Name  Age  Address\n",
      "0        1       Neha   30  Sonipat\n",
      "1        2     Aditya   20   Rohtak\n",
      "2        3   Abhishek   40  Gurgaon\n",
      "3        4    Davisha   10    Delhi\n",
      "4        5  Pratyaksh   70  Sonipat\n",
      "Head = \n",
      "    Roll_no    Name  Age  Address\n",
      "0        1    Neha   30  Sonipat\n",
      "1        2  Aditya   20   Rohtak\n",
      "Tail =\n",
      "    Roll_no       Name  Age  Address\n",
      "3        4    Davisha   10    Delhi\n",
      "4        5  Pratyaksh   70  Sonipat\n",
      "Shape= \n",
      " (5, 4)\n",
      "Columns= \n",
      " Index(['Roll_no', 'Name', 'Age', 'Address'], dtype='object')\n",
      "Size =\n",
      " 20\n",
      "Values =\n",
      " [[1 'Neha' 30 'Sonipat']\n",
      " [2 'Aditya' 20 'Rohtak']\n",
      " [3 'Abhishek' 40 'Gurgaon']\n",
      " [4 'Davisha' 10 'Delhi']\n",
      " [5 'Pratyaksh' 70 'Sonipat']]\n",
      "Index =\n",
      " RangeIndex(start=0, stop=5, step=1)\n",
      "Age =\n",
      " 0    30\n",
      "1    20\n",
      "2    40\n",
      "3    10\n",
      "4    70\n",
      "Name: Age, dtype: int64\n",
      "        Name  Address\n",
      "0       Neha  Sonipat\n",
      "1     Aditya   Rohtak\n",
      "2   Abhishek  Gurgaon\n",
      "3    Davisha    Delhi\n",
      "4  Pratyaksh  Sonipat\n",
      "LOC= \n",
      " Roll_no          1\n",
      "Name          Neha\n",
      "Age             30\n",
      "Address    Sonipat\n",
      "Name: 0, dtype: object\n",
      "LOC= \n",
      "    Roll_no      Name  Age  Address\n",
      "0        1      Neha   30  Sonipat\n",
      "1        2    Aditya   20   Rohtak\n",
      "2        3  Abhishek   40  Gurgaon\n",
      "Ages less than 30 =\n",
      "    Roll_no     Name  Age Address\n",
      "1        2   Aditya   20  Rohtak\n",
      "3        4  Davisha   10   Delhi\n",
      "Sample=\n",
      "    Roll_no       Name  Age  Address\n",
      "0        1       Neha   30  Sonipat\n",
      "3        4    Davisha   10    Delhi\n",
      "4        5  Pratyaksh   70  Sonipat\n"
     ]
    }
   ],
   "source": [
    "st_data=[(1,'Neha',30,'Sonipat'),(2,'Aditya',20,'Rohtak'),(3,'Abhishek',40,'Gurgaon'),(4,'Davisha',10,'Delhi'),(5,'Pratyaksh',70,'Sonipat')]\n",
    "df=pd.DataFrame(st_data,columns=['Roll_no','Name','Age','Address'])\n",
    "print(df)\n",
    "print(\"Head = \\n\",df.head(2))\n",
    "print(\"Tail =\\n\",df.tail(2))\n",
    "print(\"Shape= \\n\",df.shape)\n",
    "print(\"Columns= \\n\",df.columns)\n",
    "print(\"Size =\\n\",df.size)\n",
    "print(\"Values =\\n\",df.values)\n",
    "print(\"Index =\\n\",df.index)\n",
    "print(\"Age =\\n\",df.Age)\n",
    "print(df[['Name','Address']])\n",
    "print(\"LOC= \\n\",df.loc[0])\n",
    "print(\"LOC= \\n\",df.loc[[0,1,2]])\n",
    "print(\"Ages less than 30 =\\n\",df[df['Age']<30])\n",
    "print(\"Sample=\\n\",df.sample(3))"
   ]
  },
  {
   "cell_type": "code",
   "execution_count": null,
   "id": "315158ee-e941-4f9a-8e26-67b25bdfb3dc",
   "metadata": {},
   "outputs": [],
   "source": []
  }
 ],
 "metadata": {
  "kernelspec": {
   "display_name": "Python 3 (ipykernel)",
   "language": "python",
   "name": "python3"
  },
  "language_info": {
   "codemirror_mode": {
    "name": "ipython",
    "version": 3
   },
   "file_extension": ".py",
   "mimetype": "text/x-python",
   "name": "python",
   "nbconvert_exporter": "python",
   "pygments_lexer": "ipython3",
   "version": "3.12.6"
  }
 },
 "nbformat": 4,
 "nbformat_minor": 5
}
