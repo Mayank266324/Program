{
 "cells": [
  {
   "cell_type": "code",
   "execution_count": 8,
   "id": "78dfc942-fde0-43fd-96a9-8c5fa6f122a1",
   "metadata": {},
   "outputs": [],
   "source": [
    "import random"
   ]
  },
  {
   "cell_type": "code",
   "execution_count": 36,
   "id": "ccb83535-3191-4f23-b336-7fb68211936c",
   "metadata": {},
   "outputs": [],
   "source": [
    "def decide_victory(p_choice,c_choice):\n",
    "    if(p_choice==c_choice):\n",
    "        print(\"Its a tie !\")\n",
    "    elif((p_choice==\"paper\" and c_choice==\"rock\") or (p_choice==\"rock\" and c_choice==\"scissors\") or (p_choice==\"scissors\" and c_choice==\"paper\")):\n",
    "        print(\"You won!\")\n",
    "    else:\n",
    "        print(\"You lose, what a noob!\")\n"
   ]
  },
  {
   "cell_type": "code",
   "execution_count": 46,
   "id": "b030d301-61b9-454e-9004-aaa8d8ff8148",
   "metadata": {},
   "outputs": [
    {
     "name": "stdin",
     "output_type": "stream",
     "text": [
      "Enter your choice:  paper\n"
     ]
    },
    {
     "name": "stdout",
     "output_type": "stream",
     "text": [
      "you chose:  paper\n",
      "Computer chose: rock\n",
      "You won!\n",
      "None\n"
     ]
    }
   ],
   "source": [
    "def game():\n",
    "    choices=[\"rock\",\"paper\",\"scissors\"]\n",
    "    p_choice=input(\"Enter your choice: \").lower()\n",
    "    if p_choice not in choices:\n",
    "        print(\"Invalid choice please select either rock, paper, scissor\")\n",
    "        return\n",
    "    c_choice=random.choice(choices)\n",
    "    print(\"you chose: \",p_choice)\n",
    "    print(\"Computer chose:\",c_choice)\n",
    "    result=decide_victory(p_choice,c_choice)\n",
    "    print(result)\n",
    "game()"
   ]
  },
  {
   "cell_type": "code",
   "execution_count": null,
   "id": "4717fb81-27ac-4048-ab8f-dc5c0b3da0ec",
   "metadata": {},
   "outputs": [],
   "source": []
  }
 ],
 "metadata": {
  "kernelspec": {
   "display_name": "Python 3 (ipykernel)",
   "language": "python",
   "name": "python3"
  },
  "language_info": {
   "codemirror_mode": {
    "name": "ipython",
    "version": 3
   },
   "file_extension": ".py",
   "mimetype": "text/x-python",
   "name": "python",
   "nbconvert_exporter": "python",
   "pygments_lexer": "ipython3",
   "version": "3.12.3"
  }
 },
 "nbformat": 4,
 "nbformat_minor": 5
}
