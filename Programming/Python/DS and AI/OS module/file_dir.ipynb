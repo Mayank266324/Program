{
 "cells": [
  {
   "cell_type": "code",
   "execution_count": 1,
   "id": "94f4e19e-26d4-4b24-9895-1b6cfd60530c",
   "metadata": {},
   "outputs": [],
   "source": [
    "import os"
   ]
  },
  {
   "cell_type": "code",
   "execution_count": 3,
   "id": "429fb4a3-b96a-4281-a84f-664649596ba5",
   "metadata": {},
   "outputs": [
    {
     "name": "stdout",
     "output_type": "stream",
     "text": [
      "Directories:\n",
      ".ipynb_checkpoints\n",
      "\n",
      "Files:\n",
      "Untitled.ipynb\n"
     ]
    }
   ],
   "source": [
    "def scan_and_classify(path='.'):\n",
    "    directories = []\n",
    "    files = []\n",
    "    for entry in os.listdir(path):\n",
    "        full_path = os.path.join(path, entry)\n",
    "        if os.path.isdir(full_path):\n",
    "            directories.append(entry)\n",
    "        elif os.path.isfile(full_path):\n",
    "            files.append(entry)\n",
    "    return directories, files\n",
    "path = '.'\n",
    "directories, files = scan_and_classify(path)\n",
    "print(\"Directories:\")\n",
    "for directory in directories:\n",
    "    print(directory)\n",
    "    print(\"\\nFiles:\")\n",
    "for file in files:\n",
    "    print(file)"
   ]
  },
  {
   "cell_type": "code",
   "execution_count": null,
   "id": "7f3fe321-4f31-425d-ab06-1ba829cdb87e",
   "metadata": {},
   "outputs": [],
   "source": []
  }
 ],
 "metadata": {
  "kernelspec": {
   "display_name": "Python 3 (ipykernel)",
   "language": "python",
   "name": "python3"
  },
  "language_info": {
   "codemirror_mode": {
    "name": "ipython",
    "version": 3
   },
   "file_extension": ".py",
   "mimetype": "text/x-python",
   "name": "python",
   "nbconvert_exporter": "python",
   "pygments_lexer": "ipython3",
   "version": "3.12.6"
  }
 },
 "nbformat": 4,
 "nbformat_minor": 5
}
